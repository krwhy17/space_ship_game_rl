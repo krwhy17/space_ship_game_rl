{
 "cells": [
  {
   "cell_type": "code",
   "execution_count": 1,
   "id": "8b439967",
   "metadata": {},
   "outputs": [
    {
     "name": "stdout",
     "output_type": "stream",
     "text": [
      "pygame 2.6.1 (SDL 2.28.4, Python 3.9.21)\n",
      "Hello from the pygame community. https://www.pygame.org/contribute.html\n"
     ]
    }
   ],
   "source": [
    "import pygame\n",
    "import os\n",
    "import sys\n",
    "\n",
    "import torch\n",
    "import torch.nn as nn\n",
    "import torch.nn.functional as F\n",
    "import torch.optim as optim\n",
    "\n",
    "import numpy as np\n",
    "from PIL import Image\n",
    "import random\n",
    "import matplotlib.pyplot as plt\n",
    "from matplotlib import animation\n",
    "from collections import deque"
   ]
  },
  {
   "cell_type": "code",
   "execution_count": 2,
   "id": "4d59f806",
   "metadata": {},
   "outputs": [
    {
     "name": "stdout",
     "output_type": "stream",
     "text": [
      "True\n",
      "12.6\n",
      "90701\n"
     ]
    }
   ],
   "source": [
    "print(torch.cuda.is_available())  # 應該為 True\n",
    "print(torch.version.cuda)         # 應該列出 CUDA 版本\n",
    "print(torch.backends.cudnn.version())  # cuDNN 版本\n"
   ]
  },
  {
   "cell_type": "code",
   "execution_count": 3,
   "id": "a9d18a38",
   "metadata": {},
   "outputs": [],
   "source": [
    "script_dir = os.path.join(os.getcwd(), 'space_ship_game_RL')\n",
    "if script_dir not in sys.path:\n",
    "    sys.path.append(script_dir)\n",
    "\n",
    "from setting import *\n",
    "from game import Game\n"
   ]
  },
  {
   "cell_type": "code",
   "execution_count": 4,
   "id": "fa1809ba",
   "metadata": {},
   "outputs": [],
   "source": [
    "class SpaceShipEnv():\n",
    "    def __init__(self):\n",
    "        pygame.init()\n",
    "        pygame.font.init()\n",
    "\n",
    "        # 延後畫面初始化，等 render() 時才設置\n",
    "        self.screen = None\n",
    "        self.clock = pygame.time.Clock()\n",
    "        self.fps = FPS\n",
    "\n",
    "        self.game = Game()\n",
    "\n",
    "        self.action_space = [0, 1, 2, 3]\n",
    "        self.observation = self.game.state\n",
    "\n",
    "    def step(self, action):\n",
    "        self.game.update(action)\n",
    "\n",
    "        if self.screen is None:\n",
    "            self.game.draw()\n",
    "        else:\n",
    "            self.game.draw(self.screen)\n",
    "            self.clock.tick(self.fps)\n",
    "\n",
    "        # define the state by your game logic\n",
    "        state = self.game.state\n",
    "\n",
    "        # define the reward by your game logic\n",
    "        reward = -0.5\n",
    "         \n",
    "        \n",
    "        done = not self.game.running or self.game.score >= 10000\n",
    "        info = self.game.score\n",
    "\n",
    "        return state, reward, done, info\n",
    "\n",
    "    def reset(self):\n",
    "        self.game = Game()\n",
    "\n",
    "        return self.game.state\n",
    "\n",
    "    def render(self):\n",
    "        if self.screen is None:\n",
    "            self.screen = pygame.display.set_mode((WIDTH, HEIGHT))\n",
    "            pygame.display.set_caption(\"SpaceShip RL Environment\")\n",
    "\n",
    "    def close(self):\n",
    "        pygame.quit()\n"
   ]
  },
  {
   "cell_type": "code",
   "execution_count": 5,
   "id": "bf358210",
   "metadata": {},
   "outputs": [
    {
     "name": "stdout",
     "output_type": "stream",
     "text": [
      "Using device: cuda\n"
     ]
    }
   ],
   "source": [
    "device = torch.device(\"cuda\" if torch.cuda.is_available() else \"cpu\")\n",
    "print(f\"Using device: {device}\")\n"
   ]
  },
  {
   "cell_type": "code",
   "execution_count": 6,
   "id": "d2b584f6",
   "metadata": {},
   "outputs": [],
   "source": [
    "# CNN-based DQN Model\n",
    "class DQN(nn.Module):\n",
    "    def __init__(self, num_actions):\n",
    "        super(DQN, self).__init__()\n",
    "        self.conv1 = nn.Conv2d(4, 32, kernel_size=8, stride=4)\n",
    "        self.conv2 = nn.Conv2d(32, 64, kernel_size=4, stride=2)\n",
    "        self.conv3 = nn.Conv2d(64, 64, kernel_size=3, stride=1)\n",
    "        self.fc1 = nn.Linear(64 * 7 * 7, 512)\n",
    "        self.fc2 = nn.Linear(512, num_actions)\n",
    "\n",
    "    def forward(self, x):\n",
    "        x = F.relu(self.conv1(x))\n",
    "        x = F.relu(self.conv2(x))\n",
    "        x = F.relu(self.conv3(x))\n",
    "        x = x.view(x.size(0), -1)\n",
    "        x = F.relu(self.fc1(x))\n",
    "        return self.fc2(x)"
   ]
  },
  {
   "cell_type": "code",
   "execution_count": 7,
   "id": "30848ba9",
   "metadata": {},
   "outputs": [],
   "source": [
    "# Preprocess frames (grayscale and resize to 84x84)\n",
    "# 預處理影格：轉為灰階並縮放為 84x84\n",
    "\n",
    "def preprocess_frame(frame):\n",
    "    # frame 是 numpy array (H, W, 3)，先轉為 PIL Image\n",
    "    # Input is a color image (RGB), convert to PIL format for easier processing.\n",
    "    # 輸入是彩色圖像（RGB），轉成 PIL Image 以方便處理。\n",
    "    image = Image.fromarray(frame)\n",
    "\n",
    "    # 轉灰階\n",
    "    # Convert the image to grayscale to reduce input complexity.\n",
    "    # 將影像轉為灰階，降低輸入維度與計算量。\n",
    "    image = image.convert('L')\n",
    "\n",
    "    # resize 成 84x84\n",
    "    # Resize the image to a standard 84x84 shape, as per DQN convention.\n",
    "    # 依照 DQN 的慣例將影像統一縮放至 84x84。\n",
    "    image = image.resize((84, 84), Image.Resampling.BILINEAR)  # or NEAREST, or LANCZOS\n",
    "\n",
    "    # 轉回 numpy 並正規化\n",
    "    # Convert back to NumPy and normalize pixel values to [0, 1].\n",
    "    # 轉回 NumPy 格式並將像素值標準化到 [0, 1]。\n",
    "    frame = np.asarray(image, dtype=np.float32) / 255.0\n",
    "\n",
    "    return frame\n",
    "\n",
    "\n",
    "def stack_frames(stacked_frames, state, is_new_episode):\n",
    "    # 預處理目前影格\n",
    "    frame = preprocess_frame(state)\n",
    "\n",
    "    if is_new_episode or stacked_frames is None:\n",
    "        # If it's a new episode or no previous frames, initialize with 4 identical frames\n",
    "        # 若是新的一集或是尚未初始化，則用目前影格複製 4 次形成初始堆疊\n",
    "        stacked_frames = deque([frame]*4, maxlen=4)\n",
    "    else:\n",
    "        # 否則把新影格加入到堆疊中，自動捨棄最舊的\n",
    "        stacked_frames.append(frame)\n",
    "\n",
    "    # Stack the 4 frames along the first dimension: shape becomes (4, 84, 84)\n",
    "    # 沿著第一維（channel）堆疊成 4 通道輸入：形狀變成 (4, 84, 84)\n",
    "    stacked_state = np.stack(stacked_frames, axis=0)\n",
    "\n",
    "    return stacked_state, stacked_frames\n"
   ]
  },
  {
   "cell_type": "code",
   "execution_count": 8,
   "id": "9f81e7bd",
   "metadata": {},
   "outputs": [
    {
     "data": {
      "text/plain": [
       "DQN(\n",
       "  (conv1): Conv2d(4, 32, kernel_size=(8, 8), stride=(4, 4))\n",
       "  (conv2): Conv2d(32, 64, kernel_size=(4, 4), stride=(2, 2))\n",
       "  (conv3): Conv2d(64, 64, kernel_size=(3, 3), stride=(1, 1))\n",
       "  (fc1): Linear(in_features=3136, out_features=512, bias=True)\n",
       "  (fc2): Linear(in_features=512, out_features=4, bias=True)\n",
       ")"
      ]
     },
     "execution_count": 8,
     "metadata": {},
     "output_type": "execute_result"
    }
   ],
   "source": [
    "num_actions = 4  # Breakout 中的動作數量（例如：無動作、左移、右移、發球）  \n",
    "# Number of possible actions in Breakout (e.g., NOOP, LEFT, RIGHT, FIRE)\n",
    "\n",
    "model = DQN(num_actions).to(device)  \n",
    "# 建立 DQN 模型並放到指定裝置（CPU 或 GPU）  \n",
    "# Create a DQN model and move it to the specified device (CPU or GPU)\n",
    "\n",
    "checkpoint = torch.load('checkpoint.pth', map_location=device)\n",
    "model.load_state_dict(checkpoint['policy_net'])\n",
    "# 載入訓練好的模型權重（可跨裝置載入）  \n",
    "# Load trained model weights (supports device mapping for CPU/GPU compatibility)\n",
    "\n",
    "model.eval()  \n",
    "# 設定模型為評估模式，關閉 dropout/batchnorm 等訓練特性  \n",
    "# Set the model to evaluation mode (disables dropout, batchnorm, etc.)\n"
   ]
  },
  {
   "cell_type": "markdown",
   "id": "54de686f",
   "metadata": {},
   "source": [
    "修改成迴圈 儲存高分影片"
   ]
  },
  {
   "cell_type": "code",
   "execution_count": 9,
   "id": "f15bcece",
   "metadata": {},
   "outputs": [
    {
     "ename": "KeyboardInterrupt",
     "evalue": "",
     "output_type": "error",
     "traceback": [
      "\u001b[1;31m---------------------------------------------------------------------------\u001b[0m",
      "\u001b[1;31mKeyboardInterrupt\u001b[0m                         Traceback (most recent call last)",
      "Cell \u001b[1;32mIn[9], line 17\u001b[0m\n\u001b[0;32m     14\u001b[0m q_values \u001b[38;5;241m=\u001b[39m model(state_tensor)\n\u001b[0;32m     15\u001b[0m action \u001b[38;5;241m=\u001b[39m torch\u001b[38;5;241m.\u001b[39margmax(q_values, dim\u001b[38;5;241m=\u001b[39m\u001b[38;5;241m1\u001b[39m)\u001b[38;5;241m.\u001b[39mitem()\n\u001b[1;32m---> 17\u001b[0m next_state, reward, done, score \u001b[38;5;241m=\u001b[39m \u001b[43menv\u001b[49m\u001b[38;5;241;43m.\u001b[39;49m\u001b[43mstep\u001b[49m\u001b[43m(\u001b[49m\u001b[43maction\u001b[49m\u001b[43m)\u001b[49m\n\u001b[0;32m     18\u001b[0m next_state, stacked_frames \u001b[38;5;241m=\u001b[39m stack_frames(stacked_frames, next_state, \u001b[38;5;28;01mFalse\u001b[39;00m)\n\u001b[0;32m     19\u001b[0m state \u001b[38;5;241m=\u001b[39m next_state\n",
      "Cell \u001b[1;32mIn[4], line 23\u001b[0m, in \u001b[0;36mSpaceShipEnv.step\u001b[1;34m(self, action)\u001b[0m\n\u001b[0;32m     21\u001b[0m \u001b[38;5;28;01melse\u001b[39;00m:\n\u001b[0;32m     22\u001b[0m     \u001b[38;5;28mself\u001b[39m\u001b[38;5;241m.\u001b[39mgame\u001b[38;5;241m.\u001b[39mdraw(\u001b[38;5;28mself\u001b[39m\u001b[38;5;241m.\u001b[39mscreen)\n\u001b[1;32m---> 23\u001b[0m     \u001b[38;5;28;43mself\u001b[39;49m\u001b[38;5;241;43m.\u001b[39;49m\u001b[43mclock\u001b[49m\u001b[38;5;241;43m.\u001b[39;49m\u001b[43mtick\u001b[49m\u001b[43m(\u001b[49m\u001b[38;5;28;43mself\u001b[39;49m\u001b[38;5;241;43m.\u001b[39;49m\u001b[43mfps\u001b[49m\u001b[43m)\u001b[49m\n\u001b[0;32m     25\u001b[0m \u001b[38;5;66;03m# define the state by your game logic\u001b[39;00m\n\u001b[0;32m     26\u001b[0m state \u001b[38;5;241m=\u001b[39m \u001b[38;5;28mself\u001b[39m\u001b[38;5;241m.\u001b[39mgame\u001b[38;5;241m.\u001b[39mstate\n",
      "\u001b[1;31mKeyboardInterrupt\u001b[0m: "
     ]
    }
   ],
   "source": [
    "flag = True\n",
    "while flag :\n",
    "    # Visualization of trained agent\n",
    "    env = SpaceShipEnv()\n",
    "    env.render()\n",
    "    state = env.reset()\n",
    "    stacked_frames = None\n",
    "    state, stacked_frames = stack_frames(stacked_frames, state, True)\n",
    "    done = False\n",
    "    frames = []\n",
    "\n",
    "    while not done:\n",
    "        state_tensor = torch.tensor(state, dtype=torch.float32, device=device).unsqueeze(0)\n",
    "        q_values = model(state_tensor)\n",
    "        action = torch.argmax(q_values, dim=1).item()\n",
    "\n",
    "        next_state, reward, done, score = env.step(action)\n",
    "        next_state, stacked_frames = stack_frames(stacked_frames, next_state, False)\n",
    "        state = next_state\n",
    "\n",
    "        # 把畫面抓下來（RGB）\n",
    "        surface = pygame.display.get_surface()\n",
    "        frame = pygame.surfarray.array3d(surface)  # shape: (W, H, 3)\n",
    "        frame = np.transpose(frame, (1, 0, 2))     # pygame 是 x,y → imageio 是 y,x\n",
    "        frames.append(frame)\n",
    "\n",
    "    print(f\"reward: {reward}, score: {score}\")\n",
    "    env.close()\n",
    "    print(len(frames))\n",
    "    import imageio\n",
    "    if score > 7340:\n",
    "        video_path = \"space_ship_run_rl.mp4\"\n",
    "        flag = False\n",
    "\n",
    "        imageio.mimsave(video_path, frames, fps=60, quality=9)\n",
    "        print(f\"Saved gameplay video to: {video_path}\")\n",
    "    else:\n",
    "        print(\"- 分數太低.\")"
   ]
  },
  {
   "cell_type": "code",
   "execution_count": null,
   "id": "06fbf4a0",
   "metadata": {},
   "outputs": [],
   "source": [
    "# print(len(frames))"
   ]
  },
  {
   "cell_type": "markdown",
   "id": "a0975fd0",
   "metadata": {},
   "source": [
    "imageio version == 2.31.6"
   ]
  },
  {
   "cell_type": "code",
   "execution_count": null,
   "id": "76a2fc74",
   "metadata": {},
   "outputs": [],
   "source": [
    "# import imageio\n",
    "# if score > 3986:\n",
    "#     video_path = \"space_ship_run_rl.mp4\"\n",
    "\n",
    "#     imageio.mimsave(video_path, frames, fps=60, quality=9)\n",
    "#     print(f\"Saved gameplay video to: {video_path}\")\n",
    "# else:\n",
    "#     print(\"分數太低.\")"
   ]
  }
 ],
 "metadata": {
  "kernelspec": {
   "display_name": "zed",
   "language": "python",
   "name": "python3"
  },
  "language_info": {
   "codemirror_mode": {
    "name": "ipython",
    "version": 3
   },
   "file_extension": ".py",
   "mimetype": "text/x-python",
   "name": "python",
   "nbconvert_exporter": "python",
   "pygments_lexer": "ipython3",
   "version": "3.9.21"
  }
 },
 "nbformat": 4,
 "nbformat_minor": 5
}
